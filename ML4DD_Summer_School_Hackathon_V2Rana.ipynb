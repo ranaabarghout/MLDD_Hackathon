{
  "cells": [
    {
      "cell_type": "markdown",
      "metadata": {
        "id": "x1iKDNgCwVRW"
      },
      "source": [
        "# ML4DD Summer School Hackathon\n",
        "\n",
        "The final days of the Machine Learning For Drug Discovery summer school ends with a hackathon. We will use Polaris as a tool to get the associated benchmarks and datasets. First things first, we will install Polaris from PyPi."
      ]
    },
    {
      "cell_type": "code",
      "execution_count": null,
      "metadata": {
        "collapsed": true,
        "id": "diir3WsG5O6p"
      },
      "outputs": [],
      "source": [
        "!pip install polaris-lib"
      ]
    },
    {
      "cell_type": "markdown",
      "metadata": {
        "id": "L_IWEa_YxPrp"
      },
      "source": [
        "We next need to authenticate ourselves to Polaris. If you haven't done so yet, you can create an account at https://polarishub.io. Afterwards, you can simply run the command below."
      ]
    },
    {
      "cell_type": "code",
      "execution_count": null,
      "metadata": {
        "colab": {
          "base_uri": "https://localhost:8080/"
        },
        "id": "9HFqnCV076XB",
        "outputId": "cf3fad9c-951c-4433-a85b-aaf7d9c7f78b"
      },
      "outputs": [
        {
          "output_type": "stream",
          "name": "stdout",
          "text": [
            "\u001b[32m2024-06-21 13:54:33.611\u001b[0m | \u001b[1mINFO    \u001b[0m | \u001b[36mpolaris.hub.client\u001b[0m:\u001b[36mlogin\u001b[0m:\u001b[36m285\u001b[0m - \u001b[1mYou are already logged in to the Polaris Hub as ranaabarghout (ranamoneim@gmail.com). Set `overwrite=True` to force re-authentication.\u001b[0m\n"
          ]
        }
      ],
      "source": [
        "!polaris login"
      ]
    },
    {
      "cell_type": "code",
      "execution_count": null,
      "metadata": {
        "cellView": "form",
        "colab": {
          "base_uri": "https://localhost:8080/"
        },
        "id": "_iujt4e23r1M",
        "outputId": "598896d2-dc79-48c6-83b2-54846e9674c3"
      },
      "outputs": [
        {
          "output_type": "stream",
          "name": "stdout",
          "text": [
            "You have set \"rana-barghout\" as the owner\n"
          ]
        }
      ],
      "source": [
        "# @title Set an owner\n",
        "\n",
        "owner = 'rana-barghout' # @param {type:\"string\"}\n",
        "\n",
        "print(f\"You have set \\\"{owner}\\\" as the owner\")"
      ]
    },
    {
      "cell_type": "markdown",
      "metadata": {
        "id": "TO5OAEVFyuqG"
      },
      "source": [
        "# Kinase Selectivity\n",
        "\n",
        "The second benchmark we will use is `polaris/pkis1-kit-wt-mut-c-1`. Using this benchmark is very similar to before, except for one difference: This is a multi-task benchmark."
      ]
    },
    {
      "cell_type": "code",
      "execution_count": null,
      "metadata": {
        "id": "6zXY8V8gziSy"
      },
      "outputs": [],
      "source": [
        "import polaris as po\n",
        "import datamol as dm\n",
        "import numpy as np\n",
        "import pandas as pd\n",
        "import pickle\n",
        "import torch"
      ]
    },
    {
      "cell_type": "code",
      "execution_count": null,
      "metadata": {
        "colab": {
          "base_uri": "https://localhost:8080/"
        },
        "id": "46Y3c1JMIPLh",
        "outputId": "3d726c3d-ee62-4c52-d5c1-5b0a4ce9f802"
      },
      "outputs": [
        {
          "output_type": "stream",
          "name": "stderr",
          "text": [
            "\u001b[32m2024-06-21 13:54:45.344\u001b[0m | \u001b[1mINFO    \u001b[0m | \u001b[36mpolaris._artifact\u001b[0m:\u001b[36m_validate_version\u001b[0m:\u001b[36m66\u001b[0m - \u001b[1mThe version of Polaris that was used to create the artifact (0.0.0) is different from the currently installed version of Polaris (dev).\u001b[0m\n",
            "\u001b[32m2024-06-21 13:54:45.351\u001b[0m | \u001b[1mINFO    \u001b[0m | \u001b[36mpolaris._artifact\u001b[0m:\u001b[36m_validate_version\u001b[0m:\u001b[36m66\u001b[0m - \u001b[1mThe version of Polaris that was used to create the artifact (0.0.0) is different from the currently installed version of Polaris (dev).\u001b[0m\n"
          ]
        },
        {
          "output_type": "execute_result",
          "data": {
            "text/plain": [
              "(array([0, 0, 0, ..., 0, 0, 0], dtype=uint8),\n",
              " {'CLASS_KIT_(T6701_mutant)': 0.0,\n",
              "  'CLASS_KIT_(V560G_mutant)': 0.0,\n",
              "  'CLASS_KIT': 0.0})"
            ]
          },
          "metadata": {},
          "execution_count": 70
        }
      ],
      "source": [
        "benchmark = po.load_benchmark(\"polaris/pkis1-kit-wt-mut-c-1\")\n",
        "train, test = benchmark.get_train_test_split(featurization_fn=dm.to_fp)\n",
        "train[0]"
      ]
    },
    {
      "cell_type": "markdown",
      "metadata": {
        "id": "Pca2oqUVzJ6f"
      },
      "source": [
        "As we can see, the targets are now returned to us as a dictionary. Let's train a multi-task model on this data! We first preprocess the data to be in a format we can use with scikit-learn."
      ]
    },
    {
      "cell_type": "code",
      "source": [
        "print(test.X.shape)\n",
        "print(train.X.shape)"
      ],
      "metadata": {
        "colab": {
          "base_uri": "https://localhost:8080/"
        },
        "id": "n0-QOI5UCQVa",
        "outputId": "30e72872-26e2-47c8-e596-81602e000a8f"
      },
      "execution_count": null,
      "outputs": [
        {
          "output_type": "stream",
          "name": "stdout",
          "text": [
            "(87, 2048)\n",
            "(277, 2048)\n"
          ]
        }
      ]
    },
    {
      "cell_type": "code",
      "execution_count": null,
      "metadata": {
        "colab": {
          "base_uri": "https://localhost:8080/"
        },
        "id": "0dsQLe21O3pn",
        "outputId": "a98780ad-6d96-4b36-f66b-3210cd1fb5d4"
      },
      "outputs": [
        {
          "output_type": "stream",
          "name": "stdout",
          "text": [
            "Mounted at /content/drive\n"
          ]
        }
      ],
      "source": [
        "from google.colab import drive\n",
        "drive.mount('/content/drive')\n",
        "\n",
        "cd_path = '/content/drive/MyDrive/Colab Notebooks/Rana/ML for Drug Discovery Summer School/Data/'"
      ]
    },
    {
      "cell_type": "code",
      "execution_count": null,
      "metadata": {
        "id": "RMtgcj92QADX"
      },
      "outputs": [],
      "source": [
        "# Check if CUDA is available and if so, use it\n",
        "device = torch.device('cuda' if torch.cuda.is_available() else 'cpu')"
      ]
    },
    {
      "cell_type": "code",
      "execution_count": null,
      "metadata": {
        "id": "ytHnF3GJ9OnQ"
      },
      "outputs": [],
      "source": [
        "mol_embed_train = pd.read_csv(cd_path+\"mol_embed_train.csv\", header=None).values[:, 1:]\n",
        "mol_embed_test = pd.read_csv(cd_path+\"mol_embed_test.csv\", header=None).values[:, 1:]\n",
        "\n",
        "with open(cd_path+'WT_full.pkl', 'rb') as file:\n",
        "    wt_embed = pickle.load(file)\n",
        "\n",
        "with open(cd_path+'KIT_T670I_full.pkl', 'rb') as file:\n",
        "    t670i_embed = pickle.load(file)\n",
        "\n",
        "with open(cd_path+'KIT_V560G_full.pkl', 'rb') as file:\n",
        "    v560g_embed = pickle.load(file)\n"
      ]
    },
    {
      "cell_type": "code",
      "source": [
        "mol_embed_train = train.X\n",
        "mol_embed_test = test.X"
      ],
      "metadata": {
        "id": "SVvV7a9qCe-x"
      },
      "execution_count": null,
      "outputs": []
    },
    {
      "cell_type": "code",
      "execution_count": null,
      "metadata": {
        "id": "NEQih1TlYZ4l"
      },
      "outputs": [],
      "source": [
        "ys = train.y\n",
        "ys = np.stack([ys[target] for target in benchmark.target_cols], axis=1)\n",
        "ys[0, :]\n",
        "ys.shape\n",
        "mask = ~np.any(np.isnan(ys), axis=1)\n",
        "mask  = torch.from_numpy(mask)\n",
        "\n",
        "ys2 = torch.from_numpy(ys)\n",
        "ys2.shape\n",
        "train_labels = [ys2[mask][:, 0], ys2[mask][:, 1], ys2[mask][:, 2]]\n",
        "train_labels_torch = torch.cat(train_labels, dim=0)\n",
        "# mask = mask.expand(-1, 978, 1280)\n",
        "\n",
        "# mask.sum()\n",
        "# mask = ~np.any(np.isnan(ys), axis=1)\n",
        "# mask = mask.unsqueeze(1)"
      ]
    },
    {
      "cell_type": "code",
      "execution_count": null,
      "metadata": {
        "colab": {
          "base_uri": "https://localhost:8080/"
        },
        "id": "R3gvO6ZaRHtw",
        "outputId": "78d8df1b-c6f8-4a5a-f8b5-1cdafc301c14"
      },
      "outputs": [
        {
          "output_type": "stream",
          "name": "stdout",
          "text": [
            "torch.Size([276, 978, 1280])\n",
            "torch.Size([276, 978, 1280])\n",
            "torch.Size([276, 978, 1280])\n",
            "torch.Size([87, 978, 1280])\n",
            "torch.Size([87, 978, 1280])\n",
            "torch.Size([87, 978, 1280])\n",
            "torch.Size([276, 2048])\n",
            "torch.Size([87, 2048])\n"
          ]
        }
      ],
      "source": [
        "wt_embed_train = wt_embed.unsqueeze(0).repeat(mol_embed_train.shape[0], 1, 1)\n",
        "wt_embed_train = wt_embed_train[mask]\n",
        "t670i_embed_train = t670i_embed.unsqueeze(0).repeat(mol_embed_train.shape[0], 1, 1)\n",
        "t670i_embed_train = t670i_embed_train[mask]\n",
        "v560g_embed_train = v560g_embed.unsqueeze(0).repeat(mol_embed_train.shape[0], 1, 1)\n",
        "v560g_embed_train = v560g_embed_train[mask]\n",
        "\n",
        "\n",
        "wt_embed_test = wt_embed.unsqueeze(0).repeat(mol_embed_test.shape[0], 1, 1)\n",
        "t670i_embed_test = t670i_embed.unsqueeze(0).repeat(mol_embed_test.shape[0], 1, 1)\n",
        "v560g_embed_test = v560g_embed.unsqueeze(0).repeat(mol_embed_test.shape[0], 1, 1)\n",
        "print(wt_embed_train.shape)\n",
        "print(t670i_embed_train.shape)\n",
        "print(v560g_embed_train.shape)\n",
        "\n",
        "print(wt_embed_test.shape)\n",
        "print(t670i_embed_test.shape)\n",
        "print(v560g_embed_test.shape)\n",
        "\n",
        "\n",
        "# Assume molecule_df is your DataFrame\n",
        "mol_embed_train = mol_embed_train.astype(float)\n",
        "mol_embed_train = torch.tensor(mol_embed_train)\n",
        "mol_embed_train = mol_embed_train[mask]\n",
        "print(mol_embed_train.shape)\n",
        "mol_embed_test = mol_embed_test.astype(float)\n",
        "mol_embed_test = torch.tensor(mol_embed_test)\n",
        "print(mol_embed_test.shape)\n"
      ]
    },
    {
      "cell_type": "code",
      "execution_count": null,
      "metadata": {
        "id": "mtrY8CH9kNDx"
      },
      "outputs": [],
      "source": [
        "import torch\n",
        "from torch.utils.data import Dataset, DataLoader\n",
        "import pandas as pd\n",
        "\n",
        "class ProteinMoleculeDataset(Dataset):\n",
        "    def __init__(self, protein_tensors, molecule_tensors):\n",
        "        self.protein_tensors = torch.cat(protein_tensors, dim=0)\n",
        "        self.molecule_tensors = torch.cat(molecule_tensors, dim=0)\n",
        "\n",
        "    def __len__(self):\n",
        "        return self.protein_tensors.shape[0]\n",
        "\n",
        "    def __getitem__(self, idx):\n",
        "        protein_tensor = self.protein_tensors[idx]\n",
        "        molecule_tensor = self.molecule_tensors[idx]\n",
        "        return protein_tensor, molecule_tensor\n",
        "\n"
      ]
    },
    {
      "cell_type": "code",
      "execution_count": null,
      "metadata": {
        "id": "zZmnhaIdd2e1"
      },
      "outputs": [],
      "source": [
        "class ProteinMoleculeTrainingDataset(Dataset):\n",
        "    def __init__(self, protein_tensors, molecule_tensors, y_labels):\n",
        "        self.protein_tensors = torch.cat(protein_tensors, dim=0)\n",
        "        self.molecule_tensors = torch.cat(molecule_tensors, dim=0)\n",
        "        self.y_labels = torch.cat(y_labels, dim=0)  # Convert labels to a PyTorch tensor\n",
        "\n",
        "    def __len__(self):\n",
        "        return self.protein_tensors.shape[0]\n",
        "\n",
        "    def __getitem__(self, idx):\n",
        "        protein_tensor = self.protein_tensors[idx]\n",
        "        molecule_tensor = self.molecule_tensors[idx]\n",
        "        y_label = self.y_labels[idx]\n",
        "        return protein_tensor, molecule_tensor, y_label  # Return label along with data\n"
      ]
    },
    {
      "cell_type": "code",
      "execution_count": 300,
      "metadata": {
        "colab": {
          "base_uri": "https://localhost:8080/"
        },
        "id": "RVWy6jUleKHH",
        "outputId": "4d6cf885-acce-417b-db5a-d7c9c127ea85"
      },
      "outputs": [
        {
          "output_type": "stream",
          "name": "stdout",
          "text": [
            "tensor([0., 1., 0., 0., 0., 0., 1., 0., 1., 0., 1., 0., 0., 1., 0., 1., 0., 0.,\n",
            "        1., 1., 0., 1., 1., 0., 1., 1., 1., 1., 1., 0., 1., 1., 0., 1., 0., 0.,\n",
            "        1., 0., 1., 0., 1., 1., 1., 1., 1., 0., 1., 0., 0., 0., 0., 0., 1., 1.,\n",
            "        0., 1., 1., 1., 0., 0., 1., 0., 0., 1., 1., 0., 0., 0., 0., 1., 0., 0.,\n",
            "        0., 1., 1., 1., 0., 1., 1., 0., 0., 0., 1., 1., 0., 0., 1., 0., 1., 1.,\n",
            "        1., 1., 0., 1., 0., 1., 1., 0., 1., 0., 0., 0., 1., 1., 1., 0., 0., 0.,\n",
            "        0., 1., 0., 0., 1., 1., 1., 1., 1., 0., 0., 1., 1., 1., 1., 1., 1., 1.,\n",
            "        1., 1.], dtype=torch.float64)\n"
          ]
        }
      ],
      "source": [
        "from torch.utils.data import Dataset, DataLoader\n",
        "from torch.utils.data.sampler import WeightedRandomSampler\n",
        "# Assume y_labels is a list or array of your labels\n",
        "y_labels = train_labels\n",
        "protein_tensors = [wt_embed_train, t670i_embed_train, v560g_embed_train]\n",
        "molecule_tensors = [mol_embed_train, mol_embed_train, mol_embed_train]\n",
        "\n",
        "dataset = ProteinMoleculeTrainingDataset(protein_tensors, molecule_tensors, y_labels)\n",
        "train_labels_torch = dataset.y_labels\n",
        "\n",
        "# Calculate class weights\n",
        "class_sample_counts = torch.tensor([(train_labels_torch == t).sum() for t in torch.unique(train_labels_torch, sorted=True)])\n",
        "class_weights = 1. / class_sample_counts.float()\n",
        "\n",
        "# Make sure to convert the labels to long type explicitly for indexing\n",
        "sample_weights = torch.tensor([class_weights[t.long()].item() for t in train_labels_torch])\n",
        "\n",
        "# Create the weighted sampler\n",
        "sampler = WeightedRandomSampler(weights=sample_weights, num_samples=len(sample_weights), replacement=True)\n",
        "\n",
        "# Create the DataLoader with the weighted sampler\n",
        "dataloader = DataLoader(dataset, batch_size=128, sampler=sampler)\n",
        "\n",
        "# Verify DataLoader\n",
        "for batch in dataloader:\n",
        "    protein_tensors_batch, molecule_tensors_batch, y_labels_batch = batch\n",
        "    print(y_labels_batch)\n",
        "    # Ensure you check the distribution of labels to confirm the balancing\n",
        "    break\n"
      ]
    },
    {
      "cell_type": "markdown",
      "source": [
        "### Original Self-Attention Model"
      ],
      "metadata": {
        "id": "4tgy55elt68u"
      }
    },
    {
      "cell_type": "code",
      "execution_count": 301,
      "metadata": {
        "id": "Cb5orz9xUr0W"
      },
      "outputs": [],
      "source": [
        "import torch\n",
        "import torch.nn as nn\n",
        "import torch.nn.functional as F\n",
        "\n",
        "class SelfAttention(nn.Module):\n",
        "    def __init__(self, input_dim):\n",
        "        super(SelfAttention, self).__init__()\n",
        "        self.query = nn.Linear(input_dim, input_dim)\n",
        "        self.key = nn.Linear(input_dim, input_dim)\n",
        "        self.value = nn.Linear(input_dim, input_dim)\n",
        "\n",
        "    def forward(self, x):\n",
        "        q = self.query(x)\n",
        "        k = self.key(x)\n",
        "        v = self.value(x)\n",
        "        attn_weights = F.softmax(q @ k.transpose(-2, -1), dim=-1)\n",
        "        output = attn_weights @ v\n",
        "        return output.sum(dim=1)  # Sum over the sequence dimension\n",
        "\n",
        "class Net(nn.Module):\n",
        "    def __init__(self):\n",
        "        super(Net, self).__init__()\n",
        "        self.protein_attention = SelfAttention(1280)\n",
        "        # self.molecule_fc = nn.Linear(384, 1280)\n",
        "        self.protein_fc = nn.Linear(1280, 664)\n",
        "        self.fc1 = nn.Linear(2048, 1280)\n",
        "        self.fc2 = nn.Linear(1280, 664)\n",
        "        self.fc3 = nn.Linear(664, 128)\n",
        "        self.fc4 = nn.Linear(128, 1)\n",
        "\n",
        "    def forward(self, protein_data, molecule_data):\n",
        "        protein_data = self.protein_attention(protein_data.float())\n",
        "        protein_data = self.protein_fc(protein_data)\n",
        "        # molecule_data = F.relu(self.molecule_fc(molecule_data.float()))\n",
        "        molecule_data = molecule_data.float()\n",
        "        x = protein_data + molecule_data\n",
        "        x = F.relu(self.fc1(x))\n",
        "        x = F.relu(self.fc2(x))\n",
        "        x = F.relu(self.fc3(x))\n",
        "        x = torch.sigmoid(self.fc4(x))\n",
        "        return x"
      ]
    },
    {
      "cell_type": "markdown",
      "source": [
        "### Self-Attention + Cross-Attention"
      ],
      "metadata": {
        "id": "RPOIjicxt-v2"
      }
    },
    {
      "cell_type": "code",
      "source": [
        "import torch\n",
        "import torch.nn as nn\n",
        "import torch.nn.functional as F\n",
        "\n",
        "class SelfAttention(nn.Module):\n",
        "    def __init__(self, input_dim):\n",
        "        super(SelfAttention, self).__init__()\n",
        "        self.query = nn.Linear(input_dim, input_dim)\n",
        "        self.key = nn.Linear(input_dim, input_dim)\n",
        "        self.value = nn.Linear(input_dim, input_dim)\n",
        "\n",
        "    def forward(self, x):\n",
        "        q = self.query(x)\n",
        "        k = self.key(x)\n",
        "        v = self.value(x)\n",
        "        attn_weights = F.softmax(q @ k.transpose(-2, -1), dim=-1)\n",
        "        output = attn_weights @ v\n",
        "        return output.sum(dim=1)  # Sum over the sequence dimension\n",
        "\n",
        "class CrossAttention(nn.Module):\n",
        "    def __init__(self, input_dim):\n",
        "        super(CrossAttention, self).__init__()\n",
        "        self.query = nn.Linear(input_dim, input_dim)\n",
        "        self.key = nn.Linear(input_dim, input_dim)\n",
        "        self.value = nn.Linear(input_dim, input_dim)\n",
        "\n",
        "    def forward(self, q, k, v):\n",
        "        q = self.query(q)\n",
        "        k = self.key(k)\n",
        "        v = self.value(v)\n",
        "        attn_weights = F.softmax(q @ k.transpose(-2, -1), dim=-1)\n",
        "        output = attn_weights @ v\n",
        "        return output.sum(dim=1)  # Sum over the sequence dimension\n",
        "\n",
        "class Net(nn.Module):\n",
        "    def __init__(self):\n",
        "        super(Net, self).__init__()\n",
        "        self.protein_attention = SelfAttention(1280)\n",
        "        self.molecule_fc = nn.Linear(2048, 1280)\n",
        "        self.cross_attention = CrossAttention(1280)\n",
        "        self.protein_fc = nn.Linear(1280, 664)\n",
        "        self.fc1 = nn.Linear(664, 256)\n",
        "        self.fc2 = nn.Linear(256, 128)\n",
        "        self.fc3 = nn.Linear(128, 64)\n",
        "        self.fc4 = nn.Linear(64, 1)\n",
        "\n",
        "    def forward(self, protein_data, molecule_data):\n",
        "        # Compute differences between protein embeddings\n",
        "        protein_diffs = protein_data[:, 1:, :] - protein_data[:, :-1, :]\n",
        "\n",
        "        # Apply self-attention to the differences\n",
        "        protein_diffs_attended = self.protein_attention(protein_diffs.float())\n",
        "\n",
        "        # Project molecule data to the same dimension as protein data\n",
        "        molecule_data = F.relu(self.molecule_fc(molecule_data.float()))\n",
        "\n",
        "        # Cross-attention between protein and molecule data\n",
        "        protein_diffs_expanded = protein_diffs_attended.unsqueeze(1)\n",
        "        molecule_data_expanded = molecule_data.unsqueeze(1)\n",
        "        cross_attended_data = self.cross_attention(protein_diffs_expanded, molecule_data_expanded, molecule_data_expanded)\n",
        "\n",
        "        # Combine the cross-attended data with the protein data\n",
        "        combined_data = protein_diffs_attended + cross_attended_data.squeeze(1)\n",
        "        combined_data = self.protein_fc(combined_data)\n",
        "\n",
        "        # Pass through fully connected layers\n",
        "        x = F.relu(self.fc1(combined_data))\n",
        "        x = F.relu(self.fc2(x))\n",
        "        x = F.relu(self.fc3(x))\n",
        "        x = torch.sigmoid(self.fc4(x))\n",
        "        return x\n",
        "\n"
      ],
      "metadata": {
        "id": "owOllj9nt5xb"
      },
      "execution_count": 302,
      "outputs": []
    },
    {
      "cell_type": "markdown",
      "metadata": {
        "id": "PPybB4g-zrpb"
      },
      "source": [
        "## Training Loop"
      ]
    },
    {
      "cell_type": "code",
      "execution_count": 318,
      "metadata": {
        "id": "jeSXguY0z6Z1",
        "colab": {
          "base_uri": "https://localhost:8080/",
          "height": 523
        },
        "outputId": "586e1203-3aab-42a3-c282-40011068e66d"
      },
      "outputs": [
        {
          "output_type": "stream",
          "name": "stdout",
          "text": [
            "Finished Training\n"
          ]
        },
        {
          "output_type": "display_data",
          "data": {
            "text/plain": [
              "<Figure size 1000x500 with 2 Axes>"
            ],
            "image/png": "[encoded data removed]"
          },
          "metadata": {}
        }
      ],
      "source": [
        "import matplotlib.pyplot as plt\n",
        "\n",
        "# Instantiate the model\n",
        "model = Net()\n",
        "model = model.to('cuda')  # If you're using a GPU\n",
        "\n",
        "# Define a loss function and optimizer\n",
        "criterion = nn.BCELoss()  # Binary cross entropy loss for binary classification\n",
        "optimizer = torch.optim.Adam(model.parameters(), lr=1e-5)\n",
        "\n",
        "# Number of epochs to train for\n",
        "num_epochs = 70\n",
        "\n",
        "# Lists to store loss and accuracy values\n",
        "loss_values = []\n",
        "accuracy_values = []\n",
        "\n",
        "# Training loop\n",
        "for epoch in range(num_epochs):\n",
        "    running_loss = 0.0\n",
        "    correct_predictions = 0\n",
        "    total_predictions = 0\n",
        "    for i, data in enumerate(dataloader, 0):\n",
        "        # Get the inputs; data is a list of [inputs, labels]\n",
        "        protein_data, molecule_data, labels = data\n",
        "        protein_data = protein_data.to('cuda')  # If you're using a GPU\n",
        "        molecule_data = molecule_data.to('cuda')  # If you're using a GPU\n",
        "        labels = labels.to('cuda')  # If you're using a GPU\n",
        "\n",
        "        # Zero the parameter gradients\n",
        "        optimizer.zero_grad()\n",
        "\n",
        "        # Forward pass\n",
        "        outputs = model(protein_data, molecule_data)\n",
        "        outputs = outputs.squeeze(1)\n",
        "        loss = criterion(outputs.float(), labels.float())\n",
        "\n",
        "        # Backward pass and optimization\n",
        "        loss.backward()\n",
        "        optimizer.step()\n",
        "\n",
        "        # Calculate accuracy\n",
        "        predictions = (outputs > 0.5).float()\n",
        "        correct_predictions += (predictions == labels).sum().item()\n",
        "        total_predictions += labels.numel()\n",
        "\n",
        "        # Print statistics\n",
        "        running_loss += loss.item()\n",
        "        if i % 1000 == 999:  # Print every 2000 mini-batches\n",
        "            print('[%d, %5d] loss: %.3f' %\n",
        "                  (epoch + 1, i + 1, running_loss / 2000))\n",
        "            running_loss = 0.0\n",
        "\n",
        "    # Store loss and accuracy values\n",
        "    loss_values.append(running_loss / len(dataloader))\n",
        "    accuracy_values.append(correct_predictions / total_predictions)\n",
        "\n",
        "print('Finished Training')\n",
        "\n",
        "# Plot loss curve\n",
        "plt.figure(figsize=(10, 5))\n",
        "plt.subplot(1, 2, 1)\n",
        "plt.plot(loss_values, label='Train Loss')\n",
        "plt.xlabel('Epochs')\n",
        "plt.ylabel('Loss')\n",
        "plt.legend()\n",
        "\n",
        "# Plot accuracy curve\n",
        "plt.subplot(1, 2, 2)\n",
        "plt.plot(accuracy_values, label='Train Accuracy')\n",
        "plt.xlabel('Epochs')\n",
        "plt.ylabel('Accuracy')\n",
        "plt.legend()\n",
        "\n",
        "plt.tight_layout()\n",
        "plt.show()\n"
      ]
    },
    {
      "cell_type": "code",
      "execution_count": 323,
      "metadata": {
        "id": "MSDSWWVDhhTJ"
      },
      "outputs": [],
      "source": [
        "# Assume protein_tensors is a list of your protein tensors and molecule_dfs is a list of your molecule dataframes\n",
        "protein_tensors_test = [t670i_embed_test, v560g_embed_test, wt_embed_test]\n",
        "molecule_tensors_test = [mol_embed_test, mol_embed_test, mol_embed_test]\n",
        "\n",
        "test_dataset = ProteinMoleculeDataset(protein_tensors_test, molecule_tensors_test)\n",
        "test_dataloader = DataLoader(test_dataset, batch_size=261, shuffle=False)"
      ]
    },
    {
      "cell_type": "code",
      "execution_count": 324,
      "metadata": {
        "id": "J1I2FEtxLHTf"
      },
      "outputs": [],
      "source": [
        "# Get probabilities for the test set\n",
        "model.eval()  # Set the model to evaluation mode\n",
        "with torch.no_grad():\n",
        "    for i, test_data in enumerate(test_dataloader, 0):\n",
        "            # Get the inputs; data is a list of [inputs, labels]\n",
        "            protein_data, molecule_data = test_data\n",
        "            protein_data = protein_data.to('cuda')  # If you're using a GPU\n",
        "            molecule_data = molecule_data.to('cuda')  # If you're using a GPU\n",
        "            test_outputs = model(protein_data, molecule_data)\n",
        "\n",
        "# Convert the probabilities to a 2-column array\n",
        "probabilities = torch.stack([1 - test_outputs, test_outputs], dim=1)\n",
        "probabilities = probabilities.squeeze(-1)\n",
        "\n",
        "y_pred = (test_outputs > 0.5).float()"
      ]
    },
    {
      "cell_type": "code",
      "execution_count": 325,
      "metadata": {
        "id": "SutRJZ03L_Lb"
      },
      "outputs": [],
      "source": [
        "probabilities.shape\n",
        "# Move the tensor back to the CPU\n",
        "probabilities = probabilities.cpu()\n",
        "\n",
        "# Convert the tensor to a numpy array\n",
        "probabilities_numpy = probabilities.detach().numpy()\n",
        "\n",
        "y_pred = y_pred.cpu()\n",
        "y_pred = y_pred.detach().numpy()\n",
        "\n",
        "test_outputs = test_outputs.cpu()\n",
        "test_outputs_numpy = test_outputs.detach().numpy()"
      ]
    },
    {
      "cell_type": "code",
      "execution_count": 326,
      "metadata": {
        "colab": {
          "base_uri": "https://localhost:8080/"
        },
        "id": "ND2ba8fKj379",
        "outputId": "71eacc1b-3384-401a-fd83-21be1d82a2b5"
      },
      "outputs": [
        {
          "output_type": "execute_result",
          "data": {
            "text/plain": [
              "torch.Size([261, 1])"
            ]
          },
          "metadata": {},
          "execution_count": 326
        }
      ],
      "source": [
        "test_outputs.shape"
      ]
    },
    {
      "cell_type": "code",
      "execution_count": 327,
      "metadata": {
        "id": "mwlbhZIg_DDF"
      },
      "outputs": [],
      "source": [
        "y_pred = {'CLASS_KIT_(T6701_mutant)': y_pred[:87], 'CLASS_KIT_(V560G_mutant)': y_pred[87:174], 'CLASS_KIT': y_pred[174:]}"
      ]
    },
    {
      "cell_type": "code",
      "execution_count": 328,
      "metadata": {
        "colab": {
          "base_uri": "https://localhost:8080/"
        },
        "id": "_EWLsKAKNsRR",
        "outputId": "722e0b33-9dd7-41da-c2a3-d132b43f0d0b"
      },
      "outputs": [
        {
          "output_type": "execute_result",
          "data": {
            "text/plain": [
              "3"
            ]
          },
          "metadata": {},
          "execution_count": 328
        }
      ],
      "source": [
        "len(y_pred)"
      ]
    },
    {
      "cell_type": "code",
      "execution_count": 329,
      "metadata": {
        "id": "EhosUTbJMiBI"
      },
      "outputs": [],
      "source": [
        "y_prob = {'CLASS_KIT_(T6701_mutant)': probabilities_numpy[:87, 1], 'CLASS_KIT_(V560G_mutant)': probabilities_numpy[87:174, 1], 'CLASS_KIT': probabilities_numpy[174:, 1]}"
      ]
    },
    {
      "cell_type": "code",
      "execution_count": 330,
      "metadata": {
        "colab": {
          "base_uri": "https://localhost:8080/",
          "height": 507
        },
        "id": "e4Laz-ZA1tBt",
        "outputId": "c84d01ad-9b1a-49b8-e902-35ede1df9149"
      },
      "outputs": [
        {
          "output_type": "display_data",
          "data": {
            "text/plain": [
              "<Figure size 1000x500 with 2 Axes>"
            ],
            "image/png": "[encoded data removed]"
          },
          "metadata": {}
        }
      ],
      "source": [
        "# Create a new figure\n",
        "plt.figure(figsize=(10, 5))\n",
        "\n",
        "# Plot histogram for index 0\n",
        "plt.subplot(1, 2, 1)\n",
        "plt.hist([y_prob[key][0] for key in y_prob.keys()], bins=10, alpha=0.5)\n",
        "plt.title('Distribution for Index 0')\n",
        "plt.xlabel('Probability')\n",
        "plt.ylabel('Frequency')\n",
        "\n",
        "# Plot histogram for index 1\n",
        "plt.subplot(1, 2, 2)\n",
        "plt.hist([y_prob[key][1] for key in y_prob.keys()], bins=10, alpha=0.5)\n",
        "plt.title('Distribution for Index 1')\n",
        "plt.xlabel('Probability')\n",
        "plt.ylabel('Frequency')\n",
        "\n",
        "# Show the plot\n",
        "plt.tight_layout()\n",
        "plt.show()"
      ]
    },
    {
      "cell_type": "code",
      "execution_count": 331,
      "metadata": {
        "id": "taamiYN2MpRT"
      },
      "outputs": [],
      "source": [
        "results = benchmark.evaluate(y_pred=y_pred, y_prob=y_prob)"
      ]
    },
    {
      "cell_type": "code",
      "source": [
        "benchmark.evaluate(y_pred=y_pred, y_prob=y_prob)"
      ],
      "metadata": {
        "colab": {
          "base_uri": "https://localhost:8080/",
          "height": 809
        },
        "id": "RNUjYueLBphu",
        "outputId": "e3a148fc-40c6-4994-a4a3-1a85335f0559"
      },
      "execution_count": 332,
      "outputs": [
        {
          "output_type": "execute_result",
          "data": {
            "text/plain": [
              "{\n",
              "  \"name\": null,\n",
              "  \"description\": \"\",\n",
              "  \"tags\": [],\n",
              "  \"user_attributes\": {},\n",
              "  \"owner\": null,\n",
              "  \"polaris_version\": \"dev\",\n",
              "  \"benchmark_name\": \"pkis1-kit-wt-mut-c-1\",\n",
              "  \"benchmark_owner\": {\n",
              "    \"slug\": \"polaris\",\n",
              "    \"external_id\": \"org_2gtoaJIVrgRqiIR8Qm5BnpFCbxu\",\n",
              "    \"type\": \"organization\"\n",
              "  },\n",
              "  \"github_url\": null,\n",
              "  \"paper_url\": null,\n",
              "  \"contributors\": null,\n",
              "  \"artifact_id\": null,\n",
              "  \"benchmark_artifact_id\": \"polaris/pkis1-kit-wt-mut-c-1\",\n",
              "  \"results\": [\n",
              "    {\n",
              "      \"Test set\": \"test\",\n",
              "      \"Target label\": \"CLASS_KIT_(T6701_mutant)\",\n",
              "      \"Metric\": \"accuracy\",\n",
              "      \"Score\": 0.8390804598\n",
              "    },\n",
              "    {\n",
              "      \"Test set\": \"test\",\n",
              "      \"Target label\": \"CLASS_KIT_(V560G_mutant)\",\n",
              "      \"Metric\": \"accuracy\",\n",
              "      \"Score\": 0.8390804598\n",
              "    },\n",
              "    {\n",
              "      \"Test set\": \"test\",\n",
              "      \"Target label\": \"CLASS_KIT\",\n",
              "      \"Metric\": \"accuracy\",\n",
              "      \"Score\": 0.7586206897\n",
              "    },\n",
              "    {\n",
              "      \"Test set\": \"test\",\n",
              "      \"Target label\": \"CLASS_KIT_(T6701_mutant)\",\n",
              "      \"Metric\": \"f1\",\n",
              "      \"Score\": 0.125\n",
              "    },\n",
              "    {\n",
              "      \"Test set\": \"test\",\n",
              "      \"Target label\": \"CLASS_KIT_(V560G_mutant)\",\n",
              "      \"Metric\": \"f1\",\n",
              "      \"Score\": 0.5333333333\n",
              "    },\n",
              "    {\n",
              "      \"Test set\": \"test\",\n",
              "      \"Target label\": \"CLASS_KIT\",\n",
              "      \"Metric\": \"f1\",\n",
              "      \"Score\": 0.5882352941\n",
              "    },\n",
              "    {\n",
              "      \"Test set\": \"test\",\n",
              "      \"Target label\": \"CLASS_KIT_(T6701_mutant)\",\n",
              "      \"Metric\": \"roc_auc\",\n",
              "      \"Score\": 0.843444227\n",
              "    },\n",
              "    {\n",
              "      \"Test set\": \"test\",\n",
              "      \"Target label\": \"CLASS_KIT_(V560G_mutant)\",\n",
              "      \"Metric\": \"roc_auc\",\n",
              "      \"Score\": 0.8322222222\n",
              "    },\n",
              "    {\n",
              "      \"Test set\": \"test\",\n",
              "      \"Target label\": \"CLASS_KIT\",\n",
              "      \"Metric\": \"roc_auc\",\n",
              "      \"Score\": 0.8411896745\n",
              "    },\n",
              "    {\n",
              "      \"Test set\": \"test\",\n",
              "      \"Target label\": \"CLASS_KIT_(T6701_mutant)\",\n",
              "      \"Metric\": \"pr_auc\",\n",
              "      \"Score\": 0.5634955387\n",
              "    },\n",
              "    {\n",
              "      \"Test set\": \"test\",\n",
              "      \"Target label\": \"CLASS_KIT_(V560G_mutant)\",\n",
              "      \"Metric\": \"pr_auc\",\n",
              "      \"Score\": 0.6431641262\n",
              "    },\n",
              "    {\n",
              "      \"Test set\": \"test\",\n",
              "      \"Target label\": \"CLASS_KIT\",\n",
              "      \"Metric\": \"pr_auc\",\n",
              "      \"Score\": 0.7679699255\n",
              "    },\n",
              "    {\n",
              "      \"Test set\": \"test\",\n",
              "      \"Target label\": \"CLASS_KIT_(T6701_mutant)\",\n",
              "      \"Metric\": \"mcc\",\n",
              "      \"Score\": 0.1415474673\n",
              "    },\n",
              "    {\n",
              "      \"Test set\": \"test\",\n",
              "      \"Target label\": \"CLASS_KIT_(V560G_mutant)\",\n",
              "      \"Metric\": \"mcc\",\n",
              "      \"Score\": 0.4540034831\n",
              "    },\n",
              "    {\n",
              "      \"Test set\": \"test\",\n",
              "      \"Target label\": \"CLASS_KIT\",\n",
              "      \"Metric\": \"mcc\",\n",
              "      \"Score\": 0.4779197224\n",
              "    },\n",
              "    {\n",
              "      \"Test set\": \"test\",\n",
              "      \"Target label\": \"CLASS_KIT_(T6701_mutant)\",\n",
              "      \"Metric\": \"cohen_kappa\",\n",
              "      \"Score\": 0.0883233533\n",
              "    },\n",
              "    {\n",
              "      \"Test set\": \"test\",\n",
              "      \"Target label\": \"CLASS_KIT_(V560G_mutant)\",\n",
              "      \"Metric\": \"cohen_kappa\",\n",
              "      \"Score\": 0.4407713499\n",
              "    },\n",
              "    {\n",
              "      \"Test set\": \"test\",\n",
              "      \"Target label\": \"CLASS_KIT\",\n",
              "      \"Metric\": \"cohen_kappa\",\n",
              "      \"Score\": 0.4376731302\n",
              "    }\n",
              "  ]\n",
              "}"
            ],
            "text/html": [
              "<table border=\"1\"><tr><th>name</th><td>None</td></tr><tr><th>description</th><td></td></tr><tr><th>tags</th><td></td></tr><tr><th>user_attributes</th><td></td></tr><tr><th>owner</th><td>None</td></tr><tr><th>polaris_version</th><td>dev</td></tr><tr><th>benchmark_name</th><td>pkis1-kit-wt-mut-c-1</td></tr><tr><th>benchmark_owner</th><td><table border=\"1\"><tr><th>slug</th><td>polaris</td></tr><tr><th>external_id</th><td>org_2gtoaJIVrgRqiIR8Qm5BnpFCbxu</td></tr><tr><th>type</th><td>organization</td></tr></table></td></tr><tr><th>github_url</th><td>None</td></tr><tr><th>paper_url</th><td>None</td></tr><tr><th>contributors</th><td>None</td></tr><tr><th>artifact_id</th><td>None</td></tr><tr><th>benchmark_artifact_id</th><td>polaris/pkis1-kit-wt-mut-c-1</td></tr><tr><th>results</th><td><table border=\"1\"><thead><tr><th>Test set</th><th>Target label</th><th>Metric</th><th>Score</th></tr></thead><tbody><tr><td>test</td><td>CLASS_KIT_(T6701_mutant)</td><td>accuracy</td><td>0.8390804598</td></tr><tr><td>test</td><td>CLASS_KIT_(V560G_mutant)</td><td>accuracy</td><td>0.8390804598</td></tr><tr><td>test</td><td>CLASS_KIT</td><td>accuracy</td><td>0.7586206897</td></tr><tr><td>test</td><td>CLASS_KIT_(T6701_mutant)</td><td>f1</td><td>0.125</td></tr><tr><td>test</td><td>CLASS_KIT_(V560G_mutant)</td><td>f1</td><td>0.5333333333</td></tr><tr><td>test</td><td>CLASS_KIT</td><td>f1</td><td>0.5882352941</td></tr><tr><td>test</td><td>CLASS_KIT_(T6701_mutant)</td><td>roc_auc</td><td>0.843444227</td></tr><tr><td>test</td><td>CLASS_KIT_(V560G_mutant)</td><td>roc_auc</td><td>0.8322222222</td></tr><tr><td>test</td><td>CLASS_KIT</td><td>roc_auc</td><td>0.8411896745</td></tr><tr><td>test</td><td>CLASS_KIT_(T6701_mutant)</td><td>pr_auc</td><td>0.5634955387</td></tr><tr><td>test</td><td>CLASS_KIT_(V560G_mutant)</td><td>pr_auc</td><td>0.6431641262</td></tr><tr><td>test</td><td>CLASS_KIT</td><td>pr_auc</td><td>0.7679699255</td></tr><tr><td>test</td><td>CLASS_KIT_(T6701_mutant)</td><td>mcc</td><td>0.1415474673</td></tr><tr><td>test</td><td>CLASS_KIT_(V560G_mutant)</td><td>mcc</td><td>0.4540034831</td></tr><tr><td>test</td><td>CLASS_KIT</td><td>mcc</td><td>0.4779197224</td></tr><tr><td>test</td><td>CLASS_KIT_(T6701_mutant)</td><td>cohen_kappa</td><td>0.0883233533</td></tr><tr><td>test</td><td>CLASS_KIT_(V560G_mutant)</td><td>cohen_kappa</td><td>0.4407713499</td></tr><tr><td>test</td><td>CLASS_KIT</td><td>cohen_kappa</td><td>0.4376731302</td></tr></tbody></table></td></tr></table>"
            ]
          },
          "metadata": {},
          "execution_count": 332
        }
      ]
    },
    {
      "cell_type": "code",
      "source": [
        "results.name = \"Rana-SelfCrossAtt-result8\"\n",
        "results.description = \"ECFP_ESM2_SelfCrossAtt-focusedattention\""
      ],
      "metadata": {
        "id": "Z0c-gbAfuZXt"
      },
      "execution_count": 333,
      "outputs": []
    },
    {
      "cell_type": "code",
      "source": [
        "# A link to your code, e.g. Github or Google Colab.\n",
        "results.github_url = \"https://github.com/ranaabarghout/MLDD_Hackathon\"\n",
        "\n",
        "# A link to a short (<1 page) write-up of your method\n",
        "# e.g. in Google Docs or Notion\n",
        "results.paper_url = \"https://docs.google.com/document/d/1mrmfdBFFn-xHRNjXnTjyLrFg9JzJse4AGFqdqvJNCvQ/edit?usp=sharing\"\n",
        "\n",
        "# Specify the username of all your team members\n",
        "results.contributors = [\"rana-barghout\"]"
      ],
      "metadata": {
        "id": "sY4TWNrk0pT5"
      },
      "execution_count": 335,
      "outputs": []
    },
    {
      "cell_type": "code",
      "source": [
        "results.upload_to_hub(owner=owner);"
      ],
      "metadata": {
        "colab": {
          "base_uri": "https://localhost:8080/"
        },
        "id": "HqX_nIY0upvP",
        "outputId": "7b2e1f85-3785-4fc3-b327-df075f436a48"
      },
      "execution_count": 315,
      "outputs": [
        {
          "output_type": "stream",
          "name": "stderr",
          "text": [
            "\u001b[32m2024-06-21 17:29:31.122\u001b[0m | \u001b[32m\u001b[1mSUCCESS \u001b[0m | \u001b[36mpolaris.hub.client\u001b[0m:\u001b[36mupload_results\u001b[0m:\u001b[36m492\u001b[0m - \u001b[32m\u001b[1mYour result has been successfully uploaded to the Hub. View it here: https://polarishub.io/benchmarks/polaris/pkis1-kit-wt-mut-c-1/dct88fARnYmCFfdRHH0ul\u001b[0m\n"
          ]
        }
      ]
    },
    {
      "cell_type": "markdown",
      "metadata": {
        "id": "ML2Say8Q5aWn"
      },
      "source": [
        "The End."
      ]
    }
  ],
  "metadata": {
    "accelerator": "GPU",
    "colab": {
      "gpuType": "A100",
      "machine_shape": "hm",
      "provenance": []
    },
    "kernelspec": {
      "display_name": "Python 3",
      "name": "python3"
    },
    "language_info": {
      "name": "python"
    }
  },
  "nbformat": 4,
  "nbformat_minor": 0
}